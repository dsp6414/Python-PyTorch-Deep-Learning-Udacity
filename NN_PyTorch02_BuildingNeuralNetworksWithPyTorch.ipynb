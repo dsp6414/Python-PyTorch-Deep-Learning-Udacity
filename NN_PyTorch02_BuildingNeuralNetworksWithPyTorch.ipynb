{
 "cells": [
  {
   "cell_type": "markdown",
   "metadata": {},
   "source": [
    "# Neural networks with PyTorch\n",
    "\n",
    "Deep learning networks tend to be massive with dozens or hundreds of layers, that's where the term \"deep\" comes from. You can build one of these deep networks using only weight matrices as we did in the previous notebook, but in general it's very cumbersome and difficult to implement. PyTorch has a nice module `nn` that provides a nice way to efficiently build large neural networks."
   ]
  },
  {
   "cell_type": "code",
   "execution_count": 15,
   "metadata": {},
   "outputs": [],
   "source": [
    "# Import necessary packages\n",
    "\n",
    "%matplotlib inline\n",
    "%config InlineBackend.figure_format = 'retina'\n",
    "\n",
    "import numpy as np\n",
    "import torch\n",
    "\n",
    "import helper\n",
    "\n",
    "import matplotlib.pyplot as plt"
   ]
  },
  {
   "cell_type": "markdown",
   "metadata": {},
   "source": [
    "\n",
    "Now we're going to build a larger network that can solve a (formerly) difficult problem, identifying text in an image. Here we'll use the MNIST dataset which consists of greyscale handwritten digits. Each image is 28x28 pixels, you can see a sample below\n",
    "\n",
    "<img src='assets/mnist.png'>\n",
    "\n",
    "Our goal is to build a neural network that can take one of these images and predict the digit in the image.\n",
    "\n",
    "First up, we need to get our dataset. This is provided through the `torchvision` package. The code below will download the MNIST dataset, then create training and test datasets for us. Don't worry too much about the details here, you'll learn more about this later."
   ]
  },
  {
   "cell_type": "code",
   "execution_count": 16,
   "metadata": {},
   "outputs": [],
   "source": [
    "### Run this cell\n",
    "\n",
    "from torchvision import datasets, transforms\n",
    "\n",
    "# Define a transform to normalize the data\n",
    "transform = transforms.Compose([transforms.ToTensor(),\n",
    "                              transforms.Normalize((0.5,), (0.5,)),\n",
    "                              ])\n",
    "\n",
    "# Download and load the training data\n",
    "trainset = datasets.MNIST('~/.pytorch/MNIST_data/', download=True, train=True, transform=transform)\n",
    "trainloader = torch.utils.data.DataLoader(trainset, batch_size=64, shuffle=True)"
   ]
  },
  {
   "cell_type": "markdown",
   "metadata": {},
   "source": [
    "We have the training data loaded into `trainloader` and we make that an iterator with `iter(trainloader)`. Later, we'll use this to loop through the dataset for training, like\n",
    "\n",
    "```python\n",
    "for image, label in trainloader:\n",
    "    ## do things with images and labels\n",
    "```\n",
    "\n",
    "You'll notice I created the `trainloader` with a batch size of 64, and `shuffle=True`. The batch size is the number of images we get in one iteration from the data loader and pass through our network, often called a *batch*. And `shuffle=True` tells it to shuffle the dataset every time we start going through the data loader again. But here I'm just grabbing the first batch so we can check out the data. We can see below that `images` is just a tensor with size `(64, 1, 28, 28)`. So, 64 images per batch, 1 color channel, and 28x28 images."
   ]
  },
  {
   "cell_type": "code",
   "execution_count": 17,
   "metadata": {},
   "outputs": [
    {
     "name": "stdout",
     "output_type": "stream",
     "text": [
      "<class 'torch.Tensor'>\n",
      "torch.Size([64, 1, 28, 28])\n",
      "torch.Size([64])\n"
     ]
    }
   ],
   "source": [
    "dataiter = iter(trainloader)\n",
    "images, labels = dataiter.next()\n",
    "print(type(images))\n",
    "print(images.shape)\n",
    "print(labels.shape)"
   ]
  },
  {
   "cell_type": "markdown",
   "metadata": {},
   "source": [
    "This is what one of the images looks like. "
   ]
  },
  {
   "cell_type": "code",
   "execution_count": 18,
   "metadata": {},
   "outputs": [
    {
     "data": {
      "image/png": "[encoded data removed]",
      "text/plain": [
       "<Figure size 432x288 with 1 Axes>"
      ]
     },
     "metadata": {
      "image/png": {
       "height": 251,
       "width": 254
      },
      "needs_background": "light"
     },
     "output_type": "display_data"
    }
   ],
   "source": [
    "plt.imshow(images[1].numpy().squeeze(), cmap='Greys_r');"
   ]
  },
  {
   "cell_type": "markdown",
   "metadata": {},
   "source": [
    "First, let's try to build a simple network for this dataset using weight matrices and matrix multiplications. Then, we'll see how to do it using PyTorch's `nn` module which provides a much more convenient and powerful method for defining network architectures.\n",
    "\n",
    "The networks you've seen so far are called *fully-connected* or *dense* networks. Each unit in one layer is connected to each unit in the next layer. In fully-connected networks, the input to each layer must be a one-dimensional vector (which can be stacked into a 2D tensor as a batch of multiple examples). However, our images are 28x28 2D tensors, so we need to convert them into 1D vectors. Thinking about sizes, we need to convert the batch of images with shape `(64, 1, 28, 28)` to a have a shape of `(64, 784)`, 784 is 28 times 28. This is typically called *flattening*, we flattened the 2D images into 1D vectors.\n",
    "\n",
    "Previously you built a network with one output unit. Here we need 10 output units, one for each digit. We want our network to predict the digit shown in an image, so what we'll do is calculate probabilities that the image is of any one digit or class. This ends up being a discrete probability distribution over the classes (digits) that tells us the most likely class for the image. That means we need 10 output units for the 10 classes (digits). We'll see how to convert the network output into a probability distribution next.\n",
    "\n",
    "> **Exercise:** Flatten the batch of images `images`. Then build a multi-layer network with 784 input units, 256 hidden units, and 10 output units using random tensors for the weights and biases. For now, use a sigmoid activation for the hidden layer. Leave the output layer without an activation, we'll add one that gives us a probability distribution next."
   ]
  },
  {
   "cell_type": "code",
   "execution_count": 19,
   "metadata": {},
   "outputs": [
    {
     "data": {
      "text/plain": [
       "64"
      ]
     },
     "execution_count": 19,
     "metadata": {},
     "output_type": "execute_result"
    }
   ],
   "source": [
    "images.shape[0]"
   ]
  },
  {
   "cell_type": "code",
   "execution_count": 20,
   "metadata": {},
   "outputs": [
    {
     "data": {
      "text/plain": [
       "(64, -1)"
      ]
     },
     "execution_count": 20,
     "metadata": {},
     "output_type": "execute_result"
    }
   ],
   "source": [
    "(images.shape[0], -1)"
   ]
  },
  {
   "cell_type": "code",
   "execution_count": 21,
   "metadata": {},
   "outputs": [
    {
     "data": {
      "text/plain": [
       "tensor([[-1., -1., -1.,  ..., -1., -1., -1.],\n",
       "        [-1., -1., -1.,  ..., -1., -1., -1.],\n",
       "        [-1., -1., -1.,  ..., -1., -1., -1.],\n",
       "        ...,\n",
       "        [-1., -1., -1.,  ..., -1., -1., -1.],\n",
       "        [-1., -1., -1.,  ..., -1., -1., -1.],\n",
       "        [-1., -1., -1.,  ..., -1., -1., -1.]])"
      ]
     },
     "execution_count": 21,
     "metadata": {},
     "output_type": "execute_result"
    }
   ],
   "source": [
    "images.view(images.shape[0], -1)"
   ]
  },
  {
   "cell_type": "code",
   "execution_count": 31,
   "metadata": {},
   "outputs": [],
   "source": [
    "## Your solution\n",
    "\n",
    "def activation(x):\n",
    "    return 1/(1+torch.exp(-x)) # sigmoid function\n",
    "\n",
    "# Flatten the batch of input images\n",
    "inputs = images.view(images.shape[0], -1) # flattening image\n",
    "        # images.shape[0]: first element // 64\n",
    "        # -1: shortcut way (instead of 784) \n",
    "        # \n",
    "         \n",
    "\n",
    "# Create parameters\n",
    "w1 = torch.randn(784, 256)\n",
    "b1 = torch.randn(256)\n",
    "\n",
    "# implement activation for hidden layer(h)\n",
    "h = activation(torch.mm(inputs, w1) + b1)\n",
    "\n",
    "# output of your network, should have shape (64,10)\n",
    "w2 = torch.randn(256, 10)\n",
    "b2 = torch.randn(10)\n",
    "\n",
    "# run output layer without an activation\n",
    "out = torch.mm(h, w2) + b2"
   ]
  },
  {
   "cell_type": "code",
   "execution_count": 33,
   "metadata": {
    "scrolled": true
   },
   "outputs": [
    {
     "name": "stdout",
     "output_type": "stream",
     "text": [
      "tensor([[ -4.6798,  14.6126,  -7.7011, -11.0685,  13.0300, -21.1465, -13.4982,\n",
      "          -6.8691, -12.9774,   3.3768],\n",
      "        [-16.0441,  10.1412,  -9.5784,  -2.2928,  17.5465, -16.3113,  -3.7174,\n",
      "          -1.5036, -13.7774,  12.6476],\n",
      "        [-13.0466,  19.3964,  -9.2200,  -4.0906,   8.4752, -11.5214,  -0.9153,\n",
      "           2.1373,  -7.0249,   9.8333],\n",
      "        [ -5.0584,  11.1529, -13.5504,   4.3133,  13.6212, -13.9697, -12.5842,\n",
      "           7.2344,  -8.6153,  14.7695],\n",
      "        [ -1.8368,  21.3419,  -5.5017,  -2.6095,  12.8394, -21.6878,  -5.6536,\n",
      "          -5.3349, -20.2245,  10.4468],\n",
      "        [-21.8886,  26.0502,  -6.3749,  -1.4079,  21.5288, -14.0924, -12.9240,\n",
      "          -2.5842,  -2.5592,  18.5350],\n",
      "        [  0.6512,   0.3790,   0.3070,  -6.1435,  17.0427, -20.9038,  -5.9718,\n",
      "          -2.7670,  -8.5542,  21.1487],\n",
      "        [ -8.0888,   7.7174,  -8.9192, -11.0453,  18.8461, -22.7987,  -4.4435,\n",
      "           5.0008, -10.9807,   5.8186],\n",
      "        [ -8.8132,  -2.2690,  -2.9120,  -2.4959,  15.0819, -21.0141,  -9.4432,\n",
      "           3.0513, -18.8532,  13.4695],\n",
      "        [-14.6991,  21.5681,  -8.7351,  -1.1012,  11.2799, -20.2174,   0.5188,\n",
      "           3.8140, -13.5860,   9.1471],\n",
      "        [ -4.3520,  20.3421,  -0.5034, -13.6822,  12.0381, -14.8437, -12.6543,\n",
      "         -13.1242, -12.6559,   5.6729],\n",
      "        [ -8.3371,  10.6851,  -4.8507,   1.9073,  18.2847, -16.5186, -12.1422,\n",
      "           0.2820, -11.4273,  15.8052],\n",
      "        [  1.2154,  15.2571, -10.7742,   7.6908,   6.4914, -14.4846,  -2.3823,\n",
      "           2.5005,  -6.6254,  14.3908],\n",
      "        [ -8.1481,   8.1264, -13.4008,   0.7110,  19.5685, -19.0913,  -4.6973,\n",
      "           2.7314,  -8.7821,  19.5887],\n",
      "        [-12.9762,  16.9732, -10.5962, -10.7856,  24.1291, -22.0633,  -1.4665,\n",
      "           2.5183, -15.5312,   7.2414],\n",
      "        [-11.7436,  20.4326,  -8.9254,  -2.6756,  20.6103, -24.5886,   0.1326,\n",
      "           0.5646, -15.4096,  16.8586],\n",
      "        [ -4.0633,   5.6555,   3.3478,  -1.1732,  15.9060, -26.2768,  -3.7687,\n",
      "           2.5917,  -1.4734,  24.2835],\n",
      "        [-18.4913,  12.7959,  -8.0260,  -4.0401,  18.7230, -19.9439,  -1.6651,\n",
      "           1.6718,  -9.2707,  16.9289],\n",
      "        [ -7.8484,  11.8425,  -4.3084,  -1.0623,  18.1174, -21.9275,  -1.9017,\n",
      "          -6.7604,  -6.7299,  15.9881],\n",
      "        [-10.0146,  23.7728,  -5.1803,  -1.1955,  12.6356, -16.8644,  -6.8924,\n",
      "          -4.5175, -13.4101,   7.6623],\n",
      "        [-13.7849,  15.8017, -12.8545,   0.0723,  16.8236, -12.4422,  -4.7730,\n",
      "           3.5225,  -6.6268,  10.9056],\n",
      "        [  0.0863,  22.9099, -13.8063,  -1.8816,  11.1131, -19.4499,   2.9011,\n",
      "           0.6894,  -5.7484,  12.4859],\n",
      "        [ -6.3007,  14.9534,  -8.0888,   8.8889,  15.6188, -20.3751,   8.1232,\n",
      "           3.7812, -10.4351,  25.6221],\n",
      "        [  0.5114,   5.6222, -10.6516,  -4.1527,  21.3838, -14.8494, -10.2698,\n",
      "          -2.8218, -17.5995,  21.0364],\n",
      "        [-11.9841,  16.3522, -11.9536,  -1.6844,  11.6246, -11.6890,  -4.9131,\n",
      "           1.5346, -11.4798,  15.1088],\n",
      "        [ -8.3092,  13.6136,  -2.4446,  -2.3170,   5.7305, -21.8151,  -2.3585,\n",
      "          -3.6156,  -7.2075,  18.6963],\n",
      "        [-17.4777,  16.5554, -10.7486,   0.4663,  10.1508, -18.4075,  -4.9046,\n",
      "          -0.8080,  -3.2310,  11.1555],\n",
      "        [ -7.6109,  10.0292,  -8.4314,  -8.6837,  10.2246, -22.3698,   0.9148,\n",
      "           2.1287, -16.0018,   7.3544],\n",
      "        [ -3.8647,   9.8786,  -6.5882,  -1.6454,  14.7925, -14.1162,  -7.1907,\n",
      "          -3.9605,  -6.1846,  18.9406],\n",
      "        [ -8.0686,  14.5115, -14.6944,   3.5023,  11.8223, -30.0803,   3.1206,\n",
      "          -0.8380, -14.0489,  18.8651],\n",
      "        [ -5.2488,  20.2103, -14.2554,  -9.0921,  12.6414, -20.5421, -15.1453,\n",
      "          -3.2013, -10.3233,   2.1740],\n",
      "        [ -7.2984,  23.4753, -10.6952,   5.7949,  13.2572, -13.2865,  -9.7247,\n",
      "          -1.6489,  -6.6477,   8.6184],\n",
      "        [ -6.5603,  12.5733,  -1.8917,  -7.2462,  12.9848, -18.7732, -12.6959,\n",
      "          -1.8560, -12.8138,   8.1059],\n",
      "        [-13.0129,   5.9625,  -8.6601,  -0.2324,  10.6358, -27.8242,  -2.9915,\n",
      "         -11.9629,  -4.8992,  11.6502],\n",
      "        [ -2.7115,  13.7308, -10.1756, -19.0637,  26.4300, -17.5879, -12.2497,\n",
      "           9.8147, -12.5598,  25.3125],\n",
      "        [ -3.8142,  23.7834,  -4.9764,  -3.0665,   1.2918, -23.2947,   8.9882,\n",
      "           3.1105, -11.2674,  15.3671],\n",
      "        [-10.2466,  22.5483,  -9.5773,  -4.7449,   6.5892, -17.7699,  -3.3447,\n",
      "           5.7254, -10.0331,   5.4896],\n",
      "        [ -5.3917,  12.9352,  -9.9777, -12.0737,   9.5881, -19.7198,  -0.0621,\n",
      "           0.3616, -16.5265,  13.2489],\n",
      "        [ -4.2688,  19.1004,  -3.7806,  -4.0022,  12.2238, -18.3753,  -2.6127,\n",
      "          10.7294,  -6.6544,  13.2226],\n",
      "        [-12.9058,  11.7326,  -7.7255,  -2.2012,   4.1379, -18.0596,  -4.9617,\n",
      "         -10.7556, -13.5623,  12.8748],\n",
      "        [ -2.5621,  12.8325, -10.8763,  -9.1151,  19.2869,  -7.1498,  -2.1137,\n",
      "          18.4217, -14.5835,  19.2060],\n",
      "        [-15.9146,  13.6832,  -9.0235,  -2.7876,  14.3146,  -9.8240,  -8.4110,\n",
      "          -2.2117,  -9.7918,  17.0817],\n",
      "        [ -6.3238,  13.6823,  -5.8392,  -4.9447,  14.6309, -22.7590,  -0.2210,\n",
      "          -1.2792, -14.0235,   8.8566],\n",
      "        [ -4.9306,  10.7471, -11.0608,  -5.4174,  17.2052, -16.1085,  -8.7378,\n",
      "           3.9254, -21.1753,  24.8796],\n",
      "        [-12.3952,   7.0728, -11.1087,  -0.3855,  21.0671, -14.0238,  -0.3418,\n",
      "          -1.0602, -10.2662,  24.4082],\n",
      "        [-15.2968,  13.6990,  -5.2840,  -0.5691,  12.3775, -16.0684,   2.9145,\n",
      "           2.8225, -14.2234,  15.2402],\n",
      "        [ -2.1337,   7.8080,  -7.9864,  -3.7718,  20.5216, -15.0218,  -2.9476,\n",
      "           2.6525, -11.1183,   5.4104],\n",
      "        [ -6.8859,  23.0720,  -3.6814,  -6.8904,  20.7074, -21.4611,  -2.4810,\n",
      "          -3.8290, -11.8574,   9.1490],\n",
      "        [ -3.7457,  10.1536,  -1.5442,   3.7023,   6.6861, -21.5914,  -5.7160,\n",
      "          -2.1625,  -7.4701,  18.9044],\n",
      "        [ -7.6770,   5.3383, -23.3717,  -1.9586,   3.6711, -19.9055,   7.7941,\n",
      "          -2.7785, -12.2762,   4.3301],\n",
      "        [-13.0049,  18.7977,  -6.2891,  -3.0135,  20.6134, -23.1833,   1.9229,\n",
      "           2.8320, -13.9427,   6.4944],\n",
      "        [ -8.0956,   8.9403, -15.0711, -10.9263,  21.9337, -10.4613, -13.6403,\n",
      "           9.1444, -13.5158,  13.8587],\n",
      "        [-13.9162,  25.3873,   1.7216,  -8.7594,  10.1678, -19.8851,   0.9283,\n",
      "           4.2280, -18.6703,  14.1710],\n",
      "        [ -7.8915,  13.6334, -10.1156,   5.4848,  10.9111, -15.3808,  -5.3610,\n",
      "          -6.4271,  -6.8132,  11.0174],\n",
      "        [  0.7268,  12.2064, -10.9566,   1.8962,   9.7354, -11.5756,   0.7713,\n",
      "           3.9805,  -3.6177,  28.9083],\n",
      "        [ -7.7658,  11.7666, -12.5374,  -0.9944,  15.1017,  -8.2062,   1.7499,\n",
      "           2.9750, -11.9043,  13.9522],\n",
      "        [-11.9894,  16.6097,  -8.6397,  -9.3030,  13.4496, -14.0596,  -7.5956,\n",
      "           0.1183, -10.2416,   7.4195],\n",
      "        [-13.9874,  15.1369,  -5.0258, -11.0726,  11.9968, -26.5584,   4.4838,\n",
      "          -8.9081, -12.6293,  21.8518],\n",
      "        [ -1.3791,  18.6100, -14.3459,   2.6664,  13.4871, -15.7962,  -4.7129,\n",
      "          -8.1829, -12.1807,   4.5300],\n",
      "        [ -7.0709,  20.7764,  -7.6905,  -3.0377,   9.2111, -12.3741,  -3.4911,\n",
      "          -5.6355,  -9.5256,   7.5643],\n",
      "        [ -7.1793,  15.4360, -14.4700,  -3.5067,  13.7463, -16.2724,  -0.6855,\n",
      "          -3.7987,  -6.6142,   5.1535],\n",
      "        [ -4.0658,  14.7961,  -5.6626,  -7.6952,  13.8469, -19.4801,  -8.0059,\n",
      "          -3.8442,  -7.7276,  11.9256],\n",
      "        [  0.2120,  13.7674, -10.8989,   4.1326,  12.5300, -22.0122,  -3.4150,\n",
      "           3.7832, -12.7377,  25.1007],\n",
      "        [-17.9756,  19.4486,   1.0931,   4.2755,   5.0300, -14.0656,  -2.2067,\n",
      "          -6.7244, -16.1531,  15.6005]])\n"
     ]
    }
   ],
   "source": [
    "print(out)"
   ]
  },
  {
   "cell_type": "code",
   "execution_count": 34,
   "metadata": {},
   "outputs": [
    {
     "name": "stdout",
     "output_type": "stream",
     "text": [
      "torch.Size([64, 10])\n"
     ]
    }
   ],
   "source": [
    "print(out.shape) # 64 rows and 10 values"
   ]
  },
  {
   "cell_type": "markdown",
   "metadata": {},
   "source": [
    "Now we have 10 outputs for our network. We want to pass in an image to our network and get out a probability distribution over the classes that tells us the likely class(es) the image belongs to. Something that looks like this:\n",
    "<img src='assets/image_distribution.png' width=500px>\n",
    "\n",
    "Here we see that the probability for each class is roughly the same. This is representing an untrained network, it hasn't seen any data yet so it just returns a uniform distribution with equal probabilities for each class.\n",
    "\n",
    "To calculate this probability distribution, we often use the [**softmax** function](https://en.wikipedia.org/wiki/Softmax_function). Mathematically this looks like\n",
    "\n",
    "$$\n",
    "\\Large \\sigma(x_i) = \\cfrac{e^{x_i}}{\\sum_k^K{e^{x_k}}}\n",
    "$$\n",
    "\n",
    "What this does is squish each input $x_i$ between 0 and 1 and normalizes the values to give you a proper probability distribution where the probabilites sum up to one.\n",
    "\n",
    "> **Exercise:** Implement a function `softmax` that performs the softmax calculation and returns probability distributions for each example in the batch. Note that you'll need to pay attention to the shapes when doing this. If you have a tensor `a` with shape `(64, 10)` and a tensor `b` with shape `(64,)`, doing `a/b` will give you an error because PyTorch will try to do the division across the columns (called broadcasting) but you'll get a size mismatch. The way to think about this is for each of the 64 examples, you only want to divide by one value, the sum in the denominator. So you need `b` to have a shape of `(64, 1)`. This way PyTorch will divide the 10 values in each row of `a` by the one value in each row of `b`. Pay attention to how you take the sum as well. You'll need to define the `dim` keyword in `torch.sum`. Setting `dim=0` takes the sum across the rows while `dim=1` takes the sum across the columns."
   ]
  },
  {
   "cell_type": "code",
   "execution_count": 24,
   "metadata": {},
   "outputs": [
    {
     "name": "stdout",
     "output_type": "stream",
     "text": [
      "torch.Size([64, 10])\n",
      "tensor([1.0000, 1.0000, 1.0000, 1.0000, 1.0000, 1.0000, 1.0000, 1.0000, 1.0000,\n",
      "        1.0000, 1.0000, 1.0000, 1.0000, 1.0000, 1.0000, 1.0000, 1.0000, 1.0000,\n",
      "        1.0000, 1.0000, 1.0000, 1.0000, 1.0000, 1.0000, 1.0000, 1.0000, 1.0000,\n",
      "        1.0000, 1.0000, 1.0000, 1.0000, 1.0000, 1.0000, 1.0000, 1.0000, 1.0000,\n",
      "        1.0000, 1.0000, 1.0000, 1.0000, 1.0000, 1.0000, 1.0000, 1.0000, 1.0000,\n",
      "        1.0000, 1.0000, 1.0000, 1.0000, 1.0000, 1.0000, 1.0000, 1.0000, 1.0000,\n",
      "        1.0000, 1.0000, 1.0000, 1.0000, 1.0000, 1.0000, 1.0000, 1.0000, 1.0000,\n",
      "        1.0000])\n"
     ]
    }
   ],
   "source": [
    "def softmax(x):\n",
    "    ## TODO: Implement the softmax function here\n",
    "\n",
    "    return torch.exp(x)/torch.sum(torch.exp(x), dim=1).view(-1, 1) # tricky\n",
    "    \n",
    "# Here, out should be the output of the network in the previous excercise with shape (64,10)\n",
    "probabilities = softmax(out)\n",
    "\n",
    "# Does it have the right shape? Should be (64, 10)\n",
    "print(probabilities.shape)\n",
    "\n",
    "# Does it sum to 1?\n",
    "print(probabilities.sum(dim=1))"
   ]
  },
  {
   "cell_type": "code",
   "execution_count": 35,
   "metadata": {
    "scrolled": true
   },
   "outputs": [
    {
     "name": "stdout",
     "output_type": "stream",
     "text": [
      "tensor([[3.0414e-11, 4.2208e-11, 2.6254e-13, 1.5062e-20, 1.0000e+00, 1.1609e-15,\n",
      "         9.7985e-15, 6.3670e-08, 4.8415e-08, 3.1257e-21],\n",
      "        [3.4604e-14, 3.5284e-14, 7.4226e-19, 5.6991e-23, 1.0000e+00, 1.8676e-15,\n",
      "         1.4785e-20, 7.9097e-09, 1.4792e-11, 3.6948e-21],\n",
      "        [6.4482e-11, 7.4689e-09, 2.9136e-12, 9.3035e-17, 1.0000e+00, 8.3457e-14,\n",
      "         1.1565e-10, 5.6982e-07, 1.4997e-07, 3.5173e-16],\n",
      "        [2.1322e-01, 2.7439e-10, 2.0641e-05, 4.5307e-10, 7.2207e-01, 2.4740e-02,\n",
      "         2.0957e-10, 1.3823e-03, 1.4330e-05, 3.8554e-02],\n",
      "        [3.0346e-10, 1.6753e-14, 2.5897e-16, 4.9823e-20, 9.9998e-01, 1.4203e-13,\n",
      "         1.4210e-18, 1.6121e-05, 1.1187e-10, 1.2893e-20],\n",
      "        [2.9216e-10, 4.7832e-09, 8.8184e-15, 8.0022e-26, 1.0000e+00, 1.0152e-13,\n",
      "         3.3309e-09, 1.4886e-07, 3.1717e-08, 1.5241e-11],\n",
      "        [2.2472e-13, 4.5634e-16, 2.3593e-11, 3.4832e-19, 9.9998e-01, 9.7118e-14,\n",
      "         1.1234e-13, 1.3008e-05, 3.0545e-06, 1.1167e-15],\n",
      "        [6.7001e-12, 1.8072e-11, 2.4981e-10, 2.5702e-17, 1.0000e+00, 4.4057e-15,\n",
      "         1.4854e-11, 1.7170e-10, 4.3712e-07, 1.8279e-16],\n",
      "        [5.0438e-10, 1.9358e-11, 2.2715e-12, 3.1171e-14, 9.9998e-01, 4.2246e-12,\n",
      "         5.1567e-06, 1.5546e-05, 2.1540e-09, 6.4546e-12],\n",
      "        [4.0638e-08, 4.4077e-06, 3.8424e-10, 5.8521e-20, 9.8904e-01, 7.8799e-10,\n",
      "         2.7831e-14, 1.0960e-02, 1.5818e-07, 1.3194e-15],\n",
      "        [1.0840e-13, 9.2767e-08, 3.0326e-17, 4.9973e-18, 9.9994e-01, 9.1060e-13,\n",
      "         1.2339e-10, 5.5805e-05, 3.5019e-06, 8.1678e-13],\n",
      "        [1.7645e-09, 1.2170e-06, 1.2796e-10, 1.3769e-13, 9.9207e-01, 9.0465e-09,\n",
      "         2.2144e-06, 7.9313e-03, 1.0159e-07, 6.6255e-13],\n",
      "        [2.4661e-07, 8.0329e-10, 8.3536e-06, 1.6218e-19, 9.8936e-01, 8.5678e-09,\n",
      "         1.1513e-08, 7.3862e-03, 3.2479e-03, 9.3048e-10],\n",
      "        [1.1416e-11, 2.2640e-07, 6.0411e-14, 1.4697e-17, 1.0000e+00, 5.3940e-12,\n",
      "         4.5805e-13, 2.2578e-08, 8.8440e-09, 6.5740e-14],\n",
      "        [9.0233e-12, 6.6669e-06, 8.3605e-15, 4.6592e-20, 9.9985e-01, 4.9752e-13,\n",
      "         9.1496e-14, 1.4543e-04, 7.8775e-09, 7.8500e-19],\n",
      "        [9.8321e-09, 2.5447e-10, 2.0884e-11, 6.0626e-17, 9.2069e-01, 1.8182e-08,\n",
      "         6.9055e-10, 7.9305e-02, 3.5975e-08, 8.2032e-15],\n",
      "        [2.9811e-19, 2.1172e-20, 1.0334e-14, 1.9327e-20, 1.0000e+00, 2.2888e-20,\n",
      "         3.9659e-14, 6.1189e-20, 2.0355e-15, 1.1545e-18],\n",
      "        [3.8523e-09, 6.0375e-06, 7.1815e-11, 8.8428e-16, 9.9308e-01, 5.2963e-10,\n",
      "         1.2442e-11, 2.1499e-03, 4.7676e-03, 5.4478e-13],\n",
      "        [7.8905e-12, 2.3222e-17, 2.0877e-15, 7.3017e-25, 1.0000e+00, 8.3914e-18,\n",
      "         1.4082e-16, 9.2054e-12, 3.6467e-15, 3.0184e-19],\n",
      "        [2.5944e-10, 1.9527e-10, 1.9213e-12, 9.2712e-17, 1.0000e+00, 2.6157e-11,\n",
      "         4.2894e-10, 4.2455e-06, 8.7439e-08, 4.0285e-15],\n",
      "        [4.2161e-10, 2.7583e-10, 2.3637e-09, 3.1778e-21, 9.9790e-01, 4.9342e-07,\n",
      "         2.1168e-14, 6.7922e-08, 2.1013e-03, 4.8380e-16],\n",
      "        [5.1653e-13, 6.7146e-15, 2.1276e-10, 1.4661e-23, 1.0000e+00, 1.0595e-12,\n",
      "         8.7869e-16, 1.1237e-06, 6.1455e-10, 1.4942e-16],\n",
      "        [9.8343e-11, 4.8496e-08, 2.1266e-11, 1.8149e-18, 9.9052e-01, 1.1948e-12,\n",
      "         2.4763e-06, 2.4014e-03, 7.0742e-03, 6.4686e-12],\n",
      "        [1.0236e-08, 6.0691e-06, 3.2028e-09, 1.6340e-12, 4.9781e-01, 9.0200e-02,\n",
      "         7.4429e-06, 4.1197e-01, 1.2122e-07, 2.9407e-08],\n",
      "        [7.8239e-11, 6.3209e-09, 8.2386e-09, 2.0365e-16, 9.9826e-01, 8.2728e-14,\n",
      "         1.6259e-06, 1.7358e-03, 1.3465e-06, 3.9068e-15],\n",
      "        [9.5903e-13, 3.5919e-10, 1.4291e-13, 2.1043e-16, 9.9983e-01, 1.9378e-13,\n",
      "         7.3534e-13, 1.6521e-04, 5.4413e-07, 9.4836e-21],\n",
      "        [8.4016e-12, 3.0932e-07, 1.0152e-07, 1.5335e-17, 9.7379e-01, 2.2528e-10,\n",
      "         5.1606e-10, 2.6191e-02, 2.0858e-05, 1.0279e-17],\n",
      "        [4.5264e-10, 1.7525e-13, 1.7967e-08, 7.0812e-17, 9.9999e-01, 7.5940e-13,\n",
      "         1.0928e-11, 7.1075e-06, 1.0738e-08, 5.1911e-14],\n",
      "        [1.8010e-13, 2.9507e-13, 1.1945e-10, 2.8486e-19, 9.9998e-01, 1.7335e-11,\n",
      "         1.8876e-13, 1.3907e-07, 2.4668e-05, 2.4812e-13],\n",
      "        [9.3652e-08, 1.7427e-02, 3.2058e-06, 4.5656e-16, 1.5462e-01, 1.0469e-06,\n",
      "         8.2870e-05, 8.2783e-01, 2.8554e-05, 1.3117e-08],\n",
      "        [5.0610e-11, 5.9800e-09, 2.6635e-14, 1.8308e-20, 1.0000e+00, 7.7575e-18,\n",
      "         3.4976e-16, 1.8535e-08, 3.3486e-08, 8.4571e-21],\n",
      "        [3.7939e-12, 2.3241e-08, 6.6634e-13, 8.8471e-18, 9.9996e-01, 1.8866e-16,\n",
      "         9.6196e-08, 3.2459e-05, 2.7058e-06, 5.4701e-18],\n",
      "        [5.5001e-10, 9.5622e-11, 5.0631e-13, 1.3709e-21, 9.9999e-01, 1.0930e-13,\n",
      "         3.9700e-13, 1.7035e-06, 5.3124e-06, 4.9829e-21],\n",
      "        [9.5693e-14, 4.8296e-12, 1.0616e-14, 5.1738e-20, 1.0000e+00, 9.9281e-13,\n",
      "         7.2756e-10, 1.6725e-07, 1.5813e-07, 3.3195e-13],\n",
      "        [1.3740e-03, 1.2026e-06, 4.8874e-01, 1.1337e-10, 1.3064e-01, 2.4722e-03,\n",
      "         3.3549e-05, 1.3100e-02, 2.1784e-05, 3.6362e-01],\n",
      "        [7.6033e-13, 4.8185e-12, 6.6003e-16, 9.2140e-21, 1.0000e+00, 2.0635e-19,\n",
      "         2.3993e-14, 3.9473e-08, 6.9519e-08, 2.8317e-19],\n",
      "        [6.0741e-14, 4.6058e-09, 1.1885e-11, 2.5133e-17, 9.9998e-01, 5.9126e-11,\n",
      "         2.7604e-09, 1.0936e-05, 1.3650e-05, 2.9267e-16],\n",
      "        [4.7517e-10, 7.8321e-09, 8.4728e-12, 1.0035e-17, 9.9315e-01, 1.5165e-10,\n",
      "         1.2928e-14, 6.4213e-05, 6.7848e-03, 1.0565e-18],\n",
      "        [1.8599e-13, 4.5475e-13, 1.6001e-16, 1.2792e-20, 1.0000e+00, 1.4640e-18,\n",
      "         3.8236e-11, 3.0768e-14, 2.4245e-10, 1.5546e-19],\n",
      "        [2.0749e-13, 3.1729e-17, 4.8295e-18, 2.5925e-22, 1.0000e+00, 3.8046e-15,\n",
      "         5.7378e-17, 8.1021e-12, 3.3750e-09, 1.9381e-15],\n",
      "        [7.9545e-02, 1.1508e-03, 5.8367e-01, 7.3328e-12, 2.9798e-01, 2.6662e-02,\n",
      "         1.3958e-04, 1.0631e-02, 3.6847e-05, 1.8145e-04],\n",
      "        [9.1455e-08, 1.8872e-09, 3.0303e-10, 1.1077e-17, 9.9991e-01, 2.9652e-06,\n",
      "         8.8733e-14, 1.6399e-05, 6.8022e-05, 1.6501e-17],\n",
      "        [1.3623e-11, 6.3034e-10, 3.1195e-12, 1.0786e-19, 1.0000e+00, 2.1900e-12,\n",
      "         8.8257e-14, 2.7344e-07, 6.7573e-08, 2.4599e-17],\n",
      "        [1.5811e-04, 1.2390e-09, 3.7350e-01, 3.1763e-14, 5.8638e-01, 1.0112e-05,\n",
      "         2.0101e-08, 5.5688e-04, 5.3279e-07, 3.9397e-02],\n",
      "        [9.6888e-09, 2.8426e-12, 1.4551e-14, 2.2472e-17, 9.9999e-01, 7.0767e-09,\n",
      "         1.2578e-15, 1.2068e-05, 2.0953e-09, 3.0288e-17],\n",
      "        [1.4598e-10, 1.4048e-12, 2.7286e-14, 2.5644e-22, 1.0000e+00, 1.1746e-15,\n",
      "         5.8309e-09, 1.8497e-10, 1.6119e-07, 1.6063e-15],\n",
      "        [2.9911e-10, 1.0437e-05, 1.5945e-11, 4.6514e-14, 6.7910e-01, 3.4775e-11,\n",
      "         4.7200e-09, 4.2292e-03, 3.1666e-01, 9.8137e-14],\n",
      "        [1.7439e-12, 1.2005e-09, 5.1537e-16, 6.5012e-21, 1.0000e+00, 3.2226e-16,\n",
      "         6.6354e-13, 4.5503e-09, 9.7252e-12, 1.1593e-18],\n",
      "        [5.7996e-14, 3.7083e-14, 2.8462e-10, 5.1525e-17, 9.9998e-01, 6.2553e-10,\n",
      "         2.3231e-10, 1.9226e-05, 2.6496e-06, 1.6741e-14],\n",
      "        [6.8935e-13, 2.3958e-13, 1.5410e-11, 4.5468e-20, 1.0000e+00, 2.8924e-09,\n",
      "         3.2308e-10, 1.1383e-07, 2.9328e-07, 7.7741e-14],\n",
      "        [1.4611e-14, 1.0501e-12, 7.5733e-15, 1.3042e-18, 1.0000e+00, 9.6911e-15,\n",
      "         6.8596e-15, 8.8323e-09, 9.8090e-13, 3.8009e-23],\n",
      "        [1.4406e-13, 4.6849e-10, 6.6203e-11, 1.0620e-20, 9.9999e-01, 6.8875e-18,\n",
      "         3.3424e-11, 3.5321e-11, 8.9386e-06, 4.8560e-14],\n",
      "        [2.8596e-16, 8.9800e-15, 9.3947e-16, 7.2753e-24, 1.0000e+00, 1.3606e-16,\n",
      "         9.1955e-15, 1.8500e-09, 1.3269e-10, 6.5828e-21],\n",
      "        [1.2276e-17, 2.3980e-20, 1.4199e-18, 2.9690e-23, 1.0000e+00, 1.7042e-19,\n",
      "         1.1172e-12, 8.6125e-17, 9.7603e-16, 1.8750e-18],\n",
      "        [1.4727e-11, 1.5543e-09, 1.7722e-07, 1.3079e-17, 9.3371e-01, 2.2625e-11,\n",
      "         6.7943e-11, 6.5978e-02, 3.1606e-04, 6.0286e-12],\n",
      "        [6.8837e-11, 7.7293e-06, 2.0642e-05, 4.6098e-14, 9.5845e-01, 1.8677e-05,\n",
      "         2.8863e-06, 4.1039e-02, 4.6080e-04, 8.9674e-15],\n",
      "        [1.0440e-10, 5.1192e-06, 7.0713e-10, 1.1103e-17, 9.9831e-01, 5.6877e-13,\n",
      "         5.3962e-12, 1.6815e-03, 4.6427e-06, 3.5378e-18],\n",
      "        [3.5722e-08, 3.6036e-14, 1.2324e-11, 1.4028e-19, 9.9994e-01, 6.3928e-09,\n",
      "         3.7094e-10, 5.4974e-05, 2.0631e-07, 7.5973e-13],\n",
      "        [4.0939e-13, 6.0468e-11, 2.5715e-11, 1.6937e-18, 9.9917e-01, 9.8380e-15,\n",
      "         2.2751e-14, 8.3386e-04, 8.6762e-08, 4.2046e-15],\n",
      "        [3.2213e-11, 1.4721e-11, 3.9705e-10, 1.5954e-15, 9.9412e-01, 7.4583e-10,\n",
      "         1.0734e-11, 7.7900e-04, 5.1048e-03, 2.6838e-13],\n",
      "        [8.4876e-07, 1.8497e-10, 2.1875e-12, 1.2412e-15, 2.9571e-01, 7.9894e-09,\n",
      "         2.1784e-12, 7.0429e-01, 1.0552e-08, 2.3916e-13],\n",
      "        [8.0526e-07, 3.1478e-07, 1.3629e-11, 1.6621e-16, 9.9994e-01, 4.5974e-10,\n",
      "         3.0263e-16, 6.1299e-05, 3.5028e-07, 1.0492e-12],\n",
      "        [1.3052e-14, 2.1237e-13, 6.4042e-08, 5.3666e-21, 1.0000e+00, 3.4754e-15,\n",
      "         4.5994e-10, 1.2520e-07, 5.0902e-09, 2.0535e-10],\n",
      "        [3.6200e-10, 1.0527e-11, 4.0690e-17, 4.2702e-22, 9.9887e-01, 1.6398e-12,\n",
      "         4.9661e-14, 1.1322e-03, 1.2342e-06, 1.0472e-12]])\n"
     ]
    }
   ],
   "source": [
    "print(probabilities)"
   ]
  },
  {
   "cell_type": "markdown",
   "metadata": {},
   "source": [
    "## Building networks with PyTorch\n",
    "\n",
    "PyTorch provides a module `nn` that makes building networks much simpler. Here I'll show you how to build the same one as above with 784 inputs, 256 hidden units, 10 output units and a softmax output."
   ]
  },
  {
   "cell_type": "code",
   "execution_count": 25,
   "metadata": {},
   "outputs": [],
   "source": [
    "from torch import nn"
   ]
  },
  {
   "cell_type": "code",
   "execution_count": 26,
   "metadata": {},
   "outputs": [],
   "source": [
    "class Network(nn.Module):   # Classifier // we need to subclass it from nn.module\n",
    "    def __init__(self):\n",
    "        super().__init__()  # run the init method of nn.Module\n",
    "                            # then, PyTorch will know to register all the different layers and operations that you're going to be putting into this network\n",
    "        \n",
    "        # Inputs to hidden layer linear transformation\n",
    "        self.hidden = nn.Linear(784, 256) # input, output\n",
    "        # Output layer, 10 units - one for each digit\n",
    "        self.output = nn.Linear(256, 10)\n",
    "        \n",
    "        # Define sigmoid activation and softmax output \n",
    "        self.sigmoid = nn.Sigmoid()\n",
    "        self.softmax = nn.Softmax(dim=1)\n",
    "        \n",
    "    def forward(self, x):\n",
    "        # Pass the input tensor through each of our operations\n",
    "        x = self.hidden(x)\n",
    "        x = self.sigmoid(x)\n",
    "        x = self.output(x)\n",
    "        x = self.softmax(x)\n",
    "        \n",
    "        return x"
   ]
  },
  {
   "cell_type": "markdown",
   "metadata": {},
   "source": [
    "Let's go through this bit by bit.\n",
    "\n",
    "```python\n",
    "class Network(nn.Module):\n",
    "```\n",
    "\n",
    "Here we're inheriting from `nn.Module`. Combined with `super().__init__()` this creates a class that tracks the architecture and provides a lot of useful methods and attributes. It is mandatory to inherit from `nn.Module` when you're creating a class for your network. The name of the class itself can be anything.\n",
    "\n",
    "```python\n",
    "self.hidden = nn.Linear(784, 256)\n",
    "```\n",
    "\n",
    "This line creates a module for a linear transformation, $x\\mathbf{W} + b$, with 784 inputs and 256 outputs and assigns it to `self.hidden`. The module automatically creates the weight and bias tensors which we'll use in the `forward` method. You can access the weight and bias tensors once the network (`net`) is created with `net.hidden.weight` and `net.hidden.bias`.\n",
    "\n",
    "```python\n",
    "self.output = nn.Linear(256, 10)\n",
    "```\n",
    "\n",
    "Similarly, this creates another linear transformation with 256 inputs and 10 outputs.\n",
    "\n",
    "```python\n",
    "self.sigmoid = nn.Sigmoid()\n",
    "self.softmax = nn.Softmax(dim=1)\n",
    "```\n",
    "\n",
    "Here I defined operations for the sigmoid activation and softmax output. Setting `dim=1` in `nn.Softmax(dim=1)` calculates softmax across the columns.\n",
    "\n",
    "```python\n",
    "def forward(self, x):\n",
    "```\n",
    "\n",
    "PyTorch networks created with `nn.Module` must have a `forward` method defined. It takes in a tensor `x` and passes it through the operations you defined in the `__init__` method.\n",
    "\n",
    "```python\n",
    "x = self.hidden(x)\n",
    "x = self.sigmoid(x)\n",
    "x = self.output(x)\n",
    "x = self.softmax(x)\n",
    "```\n",
    "\n",
    "Here the input tensor `x` is passed through each operation and reassigned to `x`. We can see that the input tensor goes through the hidden layer, then a sigmoid function, then the output layer, and finally the softmax function. It doesn't matter what you name the variables here, as long as the inputs and outputs of the operations match the network architecture you want to build. The order in which you define things in the `__init__` method doesn't matter, but you'll need to sequence the operations correctly in the `forward` method.\n",
    "\n",
    "Now we can create a `Network` object."
   ]
  },
  {
   "cell_type": "code",
   "execution_count": 36,
   "metadata": {},
   "outputs": [
    {
     "data": {
      "text/plain": [
       "Network(\n",
       "  (hidden): Linear(in_features=784, out_features=256, bias=True)\n",
       "  (output): Linear(in_features=256, out_features=10, bias=True)\n",
       ")"
      ]
     },
     "execution_count": 36,
     "metadata": {},
     "output_type": "execute_result"
    }
   ],
   "source": [
    "# Create the network and look at it's text representation\n",
    "model = Network()\n",
    "model"
   ]
  },
  {
   "cell_type": "markdown",
   "metadata": {},
   "source": [
    "You can define the network somewhat more concisely and clearly using the `torch.nn.functional` module. This is the most common way you'll see networks defined as many operations are simple element-wise functions. We normally import this module as `F`, `import torch.nn.functional as F`."
   ]
  },
  {
   "cell_type": "code",
   "execution_count": 28,
   "metadata": {},
   "outputs": [],
   "source": [
    "# compared to the one above, this is purely functional, \n",
    "# but they are equivalent\n",
    "\n",
    "import torch.nn.functional as F # convention\n",
    "\n",
    "class Network(nn.Module):\n",
    "    def __init__(self):\n",
    "        super().__init__()\n",
    "        # Inputs to hidden layer linear transformation\n",
    "        self.hidden = nn.Linear(784, 256)\n",
    "        # Output layer, 10 units - one for each digit\n",
    "        self.output = nn.Linear(256, 10)\n",
    "        \n",
    "    def forward(self, x):\n",
    "        # Hidden layer with sigmoid activation\n",
    "        x = F.sigmoid(self.hidden(x))\n",
    "        # Output layer with softmax activation\n",
    "        x = F.softmax(self.output(x), dim=1) # element-wise operations\n",
    "        \n",
    "        return x"
   ]
  },
  {
   "cell_type": "markdown",
   "metadata": {},
   "source": [
    "### Activation functions\n",
    "\n",
    "So far we've only been looking at the sigmoid activation function, but in general any function can be used as an activation function. The only requirement is that for a network to approximate a non-linear function, the activation functions must be non-linear. Here are a few more examples of common activation functions: Tanh (hyperbolic tangent), and ReLU (rectified linear unit).\n",
    "\n",
    "<img src=\"assets/activation.png\" width=700px>\n",
    "\n",
    "In practice, the ReLU function is used almost exclusively as the activation function for hidden layers."
   ]
  },
  {
   "cell_type": "markdown",
   "metadata": {},
   "source": [
    "### Your Turn to Build a Network\n",
    "\n",
    "<img src=\"assets/mlp_mnist.png\" width=600px>\n",
    "\n",
    "> **Exercise:** Create a network with 784 input units, a hidden layer with 128 units and a ReLU activation, then a hidden layer with 64 units and a ReLU activation, and finally an output layer with a softmax activation as shown above. You can use a ReLU activation with the `nn.ReLU` module or `F.relu` function.\n",
    "\n",
    "It's good practice to name your layers by their type of network, for instance 'fc' to represent a fully-connected layer. As you code your solution, use `fc1`, `fc2`, and `fc3` as your layer names."
   ]
  },
  {
   "cell_type": "code",
   "execution_count": 37,
   "metadata": {
    "scrolled": true
   },
   "outputs": [
    {
     "data": {
      "text/plain": [
       "Network(\n",
       "  (fc1): Linear(in_features=784, out_features=128, bias=True)\n",
       "  (fc2): Linear(in_features=128, out_features=64, bias=True)\n",
       "  (fc3): Linear(in_features=64, out_features=10, bias=True)\n",
       ")"
      ]
     },
     "execution_count": 37,
     "metadata": {},
     "output_type": "execute_result"
    }
   ],
   "source": [
    "## Your solution here\n",
    "\n",
    "import torch.nn.functional as F # convention\n",
    "\n",
    "class Network(nn.Module):\n",
    "    def __init__(self):\n",
    "        super().__init__()\n",
    "        # Inputs to hidden layer 1 and 2, 128, 64, 10 units each\n",
    "        self.fc1 = nn.Linear(784, 128)\n",
    "        self.fc2 = nn.Linear(128, 64)\n",
    "        # Output layer, 10 units - one for each digit\n",
    "        self.fc3 = nn.Linear(64, 10)\n",
    "        \n",
    "    def forward(self, x):\n",
    "        ''' Forward pass through the network, returns the output logits '''\n",
    "\n",
    "        x = self.fc1(x)\n",
    "        x = F.relu(x)\n",
    "        x = self.fc2(x)\n",
    "        x = F.relu(x)\n",
    "        x = self.fc3(x)\n",
    "        x = F.softmax(x, dim = 1)\n",
    " \n",
    "        return x\n",
    "\n",
    "model = Network()\n",
    "model"
   ]
  },
  {
   "cell_type": "markdown",
   "metadata": {},
   "source": [
    "### Initializing weights and biases\n",
    "\n",
    "The weights and such are automatically initialized for you, but it's possible to customize how they are initialized. The weights and biases are tensors attached to the layer you defined, you can get them with `model.fc1.weight` for instance."
   ]
  },
  {
   "cell_type": "code",
   "execution_count": 38,
   "metadata": {},
   "outputs": [
    {
     "name": "stdout",
     "output_type": "stream",
     "text": [
      "Parameter containing:\n",
      "tensor([[-3.3810e-02, -7.0699e-05, -1.5091e-02,  ...,  2.7298e-02,\n",
      "         -1.4510e-03, -2.6885e-02],\n",
      "        [-2.3056e-02, -1.3843e-02, -2.2052e-03,  ...,  6.0342e-03,\n",
      "          1.4041e-02, -1.6036e-02],\n",
      "        [-1.7273e-02, -3.0429e-02, -3.0148e-02,  ..., -2.6032e-02,\n",
      "          2.7732e-02, -2.4889e-02],\n",
      "        ...,\n",
      "        [ 1.0016e-02, -2.9493e-02, -3.4492e-03,  ..., -2.9412e-02,\n",
      "          3.3581e-02, -2.3893e-02],\n",
      "        [ 2.2414e-03,  1.1783e-02, -1.7622e-02,  ...,  1.4122e-03,\n",
      "          1.5183e-02, -2.1096e-03],\n",
      "        [-7.9895e-03, -8.5110e-04, -1.3956e-02,  ...,  5.2318e-03,\n",
      "         -1.3726e-02, -2.5296e-02]], requires_grad=True)\n",
      "Parameter containing:\n",
      "tensor([ 0.0117,  0.0004, -0.0017, -0.0147, -0.0193,  0.0140, -0.0141,  0.0202,\n",
      "         0.0025,  0.0299,  0.0043, -0.0041,  0.0263, -0.0212,  0.0089, -0.0121,\n",
      "        -0.0316,  0.0005,  0.0239, -0.0330, -0.0104,  0.0255, -0.0046, -0.0225,\n",
      "        -0.0261, -0.0334,  0.0189, -0.0344,  0.0219, -0.0166,  0.0007,  0.0010,\n",
      "        -0.0012, -0.0253,  0.0078, -0.0120, -0.0163,  0.0098,  0.0206,  0.0207,\n",
      "         0.0146,  0.0292, -0.0352, -0.0285, -0.0261,  0.0294, -0.0144, -0.0355,\n",
      "        -0.0293, -0.0045, -0.0025, -0.0329, -0.0092, -0.0331,  0.0230,  0.0281,\n",
      "         0.0264,  0.0016,  0.0300, -0.0102,  0.0225,  0.0136,  0.0290, -0.0130,\n",
      "         0.0351, -0.0310,  0.0267, -0.0294,  0.0224, -0.0263,  0.0267,  0.0185,\n",
      "         0.0101,  0.0343, -0.0352, -0.0235, -0.0053, -0.0308,  0.0015,  0.0153,\n",
      "        -0.0355,  0.0303, -0.0180,  0.0314, -0.0326, -0.0254,  0.0309,  0.0224,\n",
      "         0.0300,  0.0182,  0.0102, -0.0253,  0.0353, -0.0077,  0.0016, -0.0345,\n",
      "        -0.0089, -0.0038,  0.0339,  0.0335, -0.0124, -0.0164, -0.0093,  0.0181,\n",
      "         0.0165,  0.0175, -0.0057, -0.0139,  0.0187, -0.0071, -0.0332,  0.0312,\n",
      "        -0.0199,  0.0256, -0.0328,  0.0058,  0.0352, -0.0328,  0.0333,  0.0115,\n",
      "        -0.0296, -0.0079,  0.0173, -0.0239,  0.0242,  0.0323, -0.0247,  0.0224],\n",
      "       requires_grad=True)\n"
     ]
    }
   ],
   "source": [
    "print(model.fc1.weight)\n",
    "print(model.fc1.bias)"
   ]
  },
  {
   "cell_type": "markdown",
   "metadata": {},
   "source": [
    "For custom initialization, we want to modify these tensors in place. These are actually autograd *Variables*, so we need to get back the actual tensors with `model.fc1.weight.data`. Once we have the tensors, we can fill them with zeros (for biases) or random normal values."
   ]
  },
  {
   "cell_type": "code",
   "execution_count": 39,
   "metadata": {},
   "outputs": [
    {
     "data": {
      "text/plain": [
       "tensor([0., 0., 0., 0., 0., 0., 0., 0., 0., 0., 0., 0., 0., 0., 0., 0., 0., 0., 0., 0., 0., 0., 0., 0.,\n",
       "        0., 0., 0., 0., 0., 0., 0., 0., 0., 0., 0., 0., 0., 0., 0., 0., 0., 0., 0., 0., 0., 0., 0., 0.,\n",
       "        0., 0., 0., 0., 0., 0., 0., 0., 0., 0., 0., 0., 0., 0., 0., 0., 0., 0., 0., 0., 0., 0., 0., 0.,\n",
       "        0., 0., 0., 0., 0., 0., 0., 0., 0., 0., 0., 0., 0., 0., 0., 0., 0., 0., 0., 0., 0., 0., 0., 0.,\n",
       "        0., 0., 0., 0., 0., 0., 0., 0., 0., 0., 0., 0., 0., 0., 0., 0., 0., 0., 0., 0., 0., 0., 0., 0.,\n",
       "        0., 0., 0., 0., 0., 0., 0., 0.])"
      ]
     },
     "execution_count": 39,
     "metadata": {},
     "output_type": "execute_result"
    }
   ],
   "source": [
    "# Set biases to all zeros\n",
    "model.fc1.bias.data.fill_(0)"
   ]
  },
  {
   "cell_type": "code",
   "execution_count": 40,
   "metadata": {},
   "outputs": [
    {
     "data": {
      "text/plain": [
       "tensor([[ 0.0168,  0.0113, -0.0010,  ...,  0.0126, -0.0062, -0.0091],\n",
       "        [-0.0021,  0.0071, -0.0017,  ..., -0.0018,  0.0035, -0.0047],\n",
       "        [-0.0013,  0.0074, -0.0059,  ..., -0.0126, -0.0066, -0.0157],\n",
       "        ...,\n",
       "        [-0.0130,  0.0066, -0.0115,  ...,  0.0181, -0.0111, -0.0097],\n",
       "        [-0.0017, -0.0071, -0.0023,  ..., -0.0137,  0.0024, -0.0130],\n",
       "        [ 0.0419, -0.0094, -0.0016,  ..., -0.0164, -0.0066,  0.0068]])"
      ]
     },
     "execution_count": 40,
     "metadata": {},
     "output_type": "execute_result"
    }
   ],
   "source": [
    "# sample from random normal with standard dev = 0.01\n",
    "model.fc1.weight.data.normal_(std=0.01)"
   ]
  },
  {
   "cell_type": "markdown",
   "metadata": {},
   "source": [
    "### Forward pass\n",
    "\n",
    "Now that we have a network, let's see what happens when we pass in an image."
   ]
  },
  {
   "cell_type": "code",
   "execution_count": 42,
   "metadata": {},
   "outputs": [
    {
     "data": {
      "image/png": "[encoded data removed]",
      "text/plain": [
       "<Figure size 432x648 with 2 Axes>"
      ]
     },
     "metadata": {
      "image/png": {
       "height": 236,
       "width": 424
      },
      "needs_background": "light"
     },
     "output_type": "display_data"
    }
   ],
   "source": [
    "# Grab some data \n",
    "dataiter = iter(trainloader)\n",
    "images, labels = dataiter.next()\n",
    "\n",
    "# Resize images into a 1D vector, new shape is (batch size, color channels, image pixels) \n",
    "images.resize_(64, 1, 784)\n",
    "# or images.resize_(images.shape[0], 1, 784) to automatically get batch size\n",
    "\n",
    "# Forward pass through the network\n",
    "img_idx = 0\n",
    "ps = model.forward(images[img_idx,:])\n",
    "\n",
    "img = images[img_idx]\n",
    "helper.view_classify(img.view(1, 28, 28), ps)"
   ]
  },
  {
   "cell_type": "markdown",
   "metadata": {},
   "source": [
    "As you can see above, our network has basically no idea what this digit is. It's because we haven't trained it yet, all the weights are random!\n",
    "\n",
    "### Using `nn.Sequential`\n",
    "\n",
    "PyTorch provides a convenient way to build networks like this where a tensor is passed sequentially through operations, `nn.Sequential` ([documentation](https://pytorch.org/docs/master/nn.html#torch.nn.Sequential)). Using this to build the equivalent network:"
   ]
  },
  {
   "cell_type": "code",
   "execution_count": 43,
   "metadata": {},
   "outputs": [
    {
     "name": "stdout",
     "output_type": "stream",
     "text": [
      "Sequential(\n",
      "  (0): Linear(in_features=784, out_features=128, bias=True)\n",
      "  (1): ReLU()\n",
      "  (2): Linear(in_features=128, out_features=64, bias=True)\n",
      "  (3): ReLU()\n",
      "  (4): Linear(in_features=64, out_features=10, bias=True)\n",
      "  (5): Softmax(dim=1)\n",
      ")\n"
     ]
    },
    {
     "data": {
      "image/png": "[encoded data removed]",
      "text/plain": [
       "<Figure size 432x648 with 2 Axes>"
      ]
     },
     "metadata": {
      "image/png": {
       "height": 236,
       "width": 424
      },
      "needs_background": "light"
     },
     "output_type": "display_data"
    }
   ],
   "source": [
    "# Hyperparameters for our network\n",
    "input_size = 784\n",
    "hidden_sizes = [128, 64]\n",
    "output_size = 10\n",
    "\n",
    "# Build a feed-forward network\n",
    "model = nn.Sequential(nn.Linear(input_size, hidden_sizes[0]),\n",
    "                      nn.ReLU(),\n",
    "                      nn.Linear(hidden_sizes[0], hidden_sizes[1]),\n",
    "                      nn.ReLU(),\n",
    "                      nn.Linear(hidden_sizes[1], output_size),\n",
    "                      nn.Softmax(dim=1))\n",
    "print(model)\n",
    "\n",
    "# Forward pass through the network and display output\n",
    "images, labels = next(iter(trainloader))\n",
    "images.resize_(images.shape[0], 1, 784)\n",
    "ps = model.forward(images[0,:])\n",
    "helper.view_classify(images[0].view(1, 28, 28), ps)"
   ]
  },
  {
   "cell_type": "markdown",
   "metadata": {},
   "source": [
    "Here our model is the same as before: 784 input units, a hidden layer with 128 units, ReLU activation, 64 unit hidden layer, another ReLU, then the output layer with 10 units, and the softmax output.\n",
    "\n",
    "The operations are available by passing in the appropriate index. For example, if you want to get first Linear operation and look at the weights, you'd use `model[0]`."
   ]
  },
  {
   "cell_type": "code",
   "execution_count": 44,
   "metadata": {},
   "outputs": [
    {
     "name": "stdout",
     "output_type": "stream",
     "text": [
      "Linear(in_features=784, out_features=128, bias=True)\n"
     ]
    },
    {
     "data": {
      "text/plain": [
       "Parameter containing:\n",
       "tensor([[-0.0043, -0.0089, -0.0271,  ..., -0.0101, -0.0180,  0.0193],\n",
       "        [ 0.0140,  0.0006,  0.0255,  ..., -0.0177,  0.0010, -0.0085],\n",
       "        [ 0.0093, -0.0044,  0.0071,  ...,  0.0136,  0.0178,  0.0048],\n",
       "        ...,\n",
       "        [-0.0010, -0.0161,  0.0023,  ..., -0.0193, -0.0017,  0.0016],\n",
       "        [-0.0238,  0.0206,  0.0034,  ..., -0.0160, -0.0046,  0.0068],\n",
       "        [ 0.0119, -0.0322, -0.0332,  ...,  0.0159,  0.0285,  0.0334]],\n",
       "       requires_grad=True)"
      ]
     },
     "execution_count": 44,
     "metadata": {},
     "output_type": "execute_result"
    }
   ],
   "source": [
    "print(model[0])\n",
    "model[0].weight"
   ]
  },
  {
   "cell_type": "markdown",
   "metadata": {},
   "source": [
    "You can also pass in an `OrderedDict` to name the individual layers and operations, instead of using incremental integers. Note that dictionary keys must be unique, so _each operation must have a different name_."
   ]
  },
  {
   "cell_type": "code",
   "execution_count": 47,
   "metadata": {},
   "outputs": [
    {
     "data": {
      "text/plain": [
       "Sequential(\n",
       "  (fc1): Linear(in_features=784, out_features=128, bias=True)\n",
       "  (relu1): ReLU()\n",
       "  (fc2): Linear(in_features=128, out_features=64, bias=True)\n",
       "  (relu2): ReLU()\n",
       "  (output): Linear(in_features=64, out_features=10, bias=True)\n",
       "  (softmax): Softmax(dim=1)\n",
       ")"
      ]
     },
     "execution_count": 47,
     "metadata": {},
     "output_type": "execute_result"
    }
   ],
   "source": [
    "from collections import OrderedDict\n",
    "model = nn.Sequential(OrderedDict([\n",
    "                      ('fc1', nn.Linear(input_size, hidden_sizes[0])),\n",
    "                      ('relu1', nn.ReLU()),\n",
    "                      ('fc2', nn.Linear(hidden_sizes[0], hidden_sizes[1])),\n",
    "                      ('relu2', nn.ReLU()),\n",
    "                      ('output', nn.Linear(hidden_sizes[1], output_size)),\n",
    "                      ('softmax', nn.Softmax(dim=1))]))\n",
    "model"
   ]
  },
  {
   "cell_type": "markdown",
   "metadata": {},
   "source": [
    "Now you can access layers either by integer or the name"
   ]
  },
  {
   "cell_type": "code",
   "execution_count": 48,
   "metadata": {},
   "outputs": [
    {
     "name": "stdout",
     "output_type": "stream",
     "text": [
      "Linear(in_features=784, out_features=128, bias=True)\n",
      "Linear(in_features=784, out_features=128, bias=True)\n"
     ]
    }
   ],
   "source": [
    "print(model[0])\n",
    "print(model.fc1)"
   ]
  },
  {
   "cell_type": "markdown",
   "metadata": {},
   "source": [
    "In the next notebook, we'll see how we can train a neural network to accuractly predict the numbers appearing in the MNIST images."
   ]
  },
  {
   "cell_type": "code",
   "execution_count": null,
   "metadata": {},
   "outputs": [],
   "source": []
  }
 ],
 "metadata": {
  "kernelspec": {
   "display_name": "Python 3",
   "language": "python",
   "name": "python3"
  },
  "language_info": {
   "codemirror_mode": {
    "name": "ipython",
    "version": 3
   },
   "file_extension": ".py",
   "mimetype": "text/x-python",
   "name": "python",
   "nbconvert_exporter": "python",
   "pygments_lexer": "ipython3",
   "version": "3.7.0"
  },
  "latex_envs": {
   "LaTeX_envs_menu_present": true,
   "autoclose": false,
   "autocomplete": true,
   "bibliofile": "biblio.bib",
   "cite_by": "apalike",
   "current_citInitial": 1,
   "eqLabelWithNumbers": true,
   "eqNumInitial": 1,
   "hotkeys": {
    "equation": "Ctrl-E",
    "itemize": "Ctrl-I"
   },
   "labels_anchors": false,
   "latex_user_defs": false,
   "report_style_numbering": false,
   "user_envs_cfg": false
  },
  "toc": {
   "base_numbering": 1,
   "nav_menu": {},
   "number_sections": true,
   "sideBar": true,
   "skip_h1_title": false,
   "title_cell": "Table of Contents",
   "title_sidebar": "Contents",
   "toc_cell": false,
   "toc_position": {},
   "toc_section_display": true,
   "toc_window_display": true
  },
  "varInspector": {
   "cols": {
    "lenName": 16,
    "lenType": 16,
    "lenVar": 40
   },
   "kernels_config": {
    "python": {
     "delete_cmd_postfix": "",
     "delete_cmd_prefix": "del ",
     "library": "var_list.py",
     "varRefreshCmd": "print(var_dic_list())"
    },
    "r": {
     "delete_cmd_postfix": ") ",
     "delete_cmd_prefix": "rm(",
     "library": "var_list.r",
     "varRefreshCmd": "cat(var_dic_list()) "
    }
   },
   "types_to_exclude": [
    "module",
    "function",
    "builtin_function_or_method",
    "instance",
    "_Feature"
   ],
   "window_display": false
  }
 },
 "nbformat": 4,
 "nbformat_minor": 2
}
