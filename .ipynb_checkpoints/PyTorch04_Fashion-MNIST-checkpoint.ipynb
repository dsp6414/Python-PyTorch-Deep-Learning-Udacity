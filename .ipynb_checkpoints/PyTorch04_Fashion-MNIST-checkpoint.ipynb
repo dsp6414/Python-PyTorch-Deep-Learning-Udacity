{
 "cells": [
  {
   "cell_type": "markdown",
   "metadata": {},
   "source": [
    "# Classifying Fashion-MNIST\n",
    "\n",
    "Now it's your turn to build and train a neural network. You'll be using the [Fashion-MNIST dataset](https://github.com/zalandoresearch/fashion-mnist), a drop-in replacement for the MNIST dataset. MNIST is actually quite trivial with neural networks where you can easily achieve better than 97% accuracy. Fashion-MNIST is a set of 28x28 greyscale images of clothes. It's more complex than MNIST, so it's a better representation of the actual performance of your network, and a better representation of datasets you'll use in the real world.\n",
    "\n",
    "<img src='assets/fashion-mnist-sprite.png' width=500px>\n",
    "\n",
    "In this notebook, you'll build your own neural network. For the most part, you could just copy and paste the code from Part 3, but you wouldn't be learning. It's important for you to write the code yourself and get it to work. Feel free to consult the previous notebooks though as you work through this.\n",
    "\n",
    "First off, let's load the dataset through torchvision."
   ]
  },
  {
   "cell_type": "code",
   "execution_count": 1,
   "metadata": {},
   "outputs": [
    {
     "name": "stderr",
     "output_type": "stream",
     "text": [
      "\r",
      "0it [00:00, ?it/s]"
     ]
    },
    {
     "name": "stdout",
     "output_type": "stream",
     "text": [
      "Downloading http://fashion-mnist.s3-website.eu-central-1.amazonaws.com/train-images-idx3-ubyte.gz to /home/dockeruser/.pytorch/F_MNIST_data/FashionMNIST/raw/train-images-idx3-ubyte.gz\n"
     ]
    },
    {
     "name": "stderr",
     "output_type": "stream",
     "text": [
      "100%|█████████▉| 26419200/26421880 [01:48<00:00, 193319.35it/s] "
     ]
    },
    {
     "name": "stdout",
     "output_type": "stream",
     "text": [
      "Extracting /home/dockeruser/.pytorch/F_MNIST_data/FashionMNIST/raw/train-images-idx3-ubyte.gz to /home/dockeruser/.pytorch/F_MNIST_data/FashionMNIST/raw\n"
     ]
    },
    {
     "name": "stderr",
     "output_type": "stream",
     "text": [
      "\n",
      "0it [00:00, ?it/s]\u001b[A"
     ]
    },
    {
     "name": "stdout",
     "output_type": "stream",
     "text": [
      "Downloading http://fashion-mnist.s3-website.eu-central-1.amazonaws.com/train-labels-idx1-ubyte.gz to /home/dockeruser/.pytorch/F_MNIST_data/FashionMNIST/raw/train-labels-idx1-ubyte.gz\n"
     ]
    },
    {
     "name": "stderr",
     "output_type": "stream",
     "text": [
      "\n",
      "  0%|          | 0/29515 [00:00<?, ?it/s]\u001b[A\n",
      " 56%|█████▌    | 16384/29515 [00:00<00:00, 54631.79it/s]\u001b[A\n",
      "\n",
      "0it [00:00, ?it/s]\u001b[A\u001b[A"
     ]
    },
    {
     "name": "stdout",
     "output_type": "stream",
     "text": [
      "Extracting /home/dockeruser/.pytorch/F_MNIST_data/FashionMNIST/raw/train-labels-idx1-ubyte.gz to /home/dockeruser/.pytorch/F_MNIST_data/FashionMNIST/raw\n",
      "Downloading http://fashion-mnist.s3-website.eu-central-1.amazonaws.com/t10k-images-idx3-ubyte.gz to /home/dockeruser/.pytorch/F_MNIST_data/FashionMNIST/raw/t10k-images-idx3-ubyte.gz\n"
     ]
    },
    {
     "name": "stderr",
     "output_type": "stream",
     "text": [
      "\n",
      "\n",
      "  0%|          | 0/4422102 [00:00<?, ?it/s]\u001b[A\u001b[A\n",
      "\n",
      "  0%|          | 16384/4422102 [00:01<01:22, 53428.17it/s]\u001b[A\u001b[A\n",
      "\n",
      "  1%|          | 49152/4422102 [00:01<01:09, 63015.42it/s]\u001b[A\u001b[A\n",
      "\n",
      "  2%|▏         | 90112/4422102 [00:01<00:51, 84133.07it/s]\u001b[A\u001b[A\n",
      "\n",
      "  2%|▏         | 106496/4422102 [00:01<00:51, 83575.93it/s]\u001b[A\u001b[A\n",
      "\n",
      "  3%|▎         | 139264/4422102 [00:02<00:46, 91254.60it/s]\u001b[A\u001b[A\n",
      "\n",
      "  4%|▍         | 196608/4422102 [00:02<00:39, 106427.81it/s]\u001b[A\u001b[A\n",
      "\n",
      "  6%|▌         | 245760/4422102 [00:02<00:33, 123068.14it/s]\u001b[A\u001b[A\n",
      "\n",
      "  6%|▌         | 262144/4422102 [00:02<00:31, 132782.66it/s]\u001b[A\u001b[A\n",
      "\n",
      "  7%|▋         | 303104/4422102 [00:02<00:27, 150538.32it/s]\u001b[A\u001b[A\n",
      "\n",
      "  7%|▋         | 327680/4422102 [00:03<00:25, 162432.08it/s]\u001b[A\u001b[A\n",
      "\n",
      "  8%|▊         | 368640/4422102 [00:03<00:25, 159694.19it/s]\u001b[A\u001b[A\n",
      "\n",
      " 10%|▉         | 425984/4422102 [00:03<00:21, 185648.33it/s]\u001b[A\u001b[A\n",
      "\n",
      " 10%|█         | 450560/4422102 [00:03<00:23, 170308.07it/s]\u001b[A\u001b[A\n",
      "\n",
      " 11%|█         | 491520/4422102 [00:03<00:19, 201207.73it/s]\u001b[A\u001b[A\n",
      "\n",
      " 12%|█▏        | 516096/4422102 [00:03<00:22, 175723.26it/s]\u001b[A\u001b[A\n",
      "\n",
      " 13%|█▎        | 565248/4422102 [00:04<00:19, 201071.93it/s]\u001b[A\u001b[A\n",
      "\n",
      " 13%|█▎        | 589824/4422102 [00:04<00:19, 194947.02it/s]\u001b[A\u001b[A\n",
      "\n",
      " 14%|█▍        | 638976/4422102 [00:04<00:18, 203176.18it/s]\u001b[A\u001b[A\n",
      "\n",
      " 16%|█▌        | 712704/4422102 [00:04<00:16, 228271.88it/s]\u001b[A\u001b[A\n",
      "\n",
      " 17%|█▋        | 745472/4422102 [00:04<00:16, 223333.33it/s]\u001b[A\u001b[A\n",
      "\n",
      " 18%|█▊        | 794624/4422102 [00:05<00:14, 249684.53it/s]\u001b[A\u001b[A\n",
      "\n",
      " 19%|█▊        | 827392/4422102 [00:05<00:16, 216474.21it/s]\u001b[A\u001b[A\n",
      "\n",
      " 20%|█▉        | 876544/4422102 [00:05<00:14, 240808.04it/s]\u001b[A\u001b[A\n",
      "\n",
      " 21%|██        | 909312/4422102 [00:05<00:15, 233765.32it/s]\u001b[A\u001b[A\n",
      "\n",
      " 22%|██▏       | 966656/4422102 [00:05<00:12, 267011.17it/s]\u001b[A\u001b[A\n",
      "\n",
      " 23%|██▎       | 999424/4422102 [00:05<00:14, 243215.41it/s]\u001b[A\u001b[A\n",
      "\n",
      " 24%|██▍       | 1064960/4422102 [00:05<00:11, 284031.78it/s]\u001b[A\u001b[A\n",
      "\n",
      " 25%|██▍       | 1097728/4422102 [00:06<00:12, 260204.67it/s]\u001b[A\u001b[A\n",
      "\n",
      " 27%|██▋       | 1179648/4422102 [00:06<00:10, 306493.70it/s]\u001b[A\u001b[A\n",
      "\n",
      " 28%|██▊       | 1220608/4422102 [00:06<00:18, 176698.78it/s]\u001b[A\u001b[A\n",
      "\n",
      " 31%|███       | 1351680/4422102 [00:06<00:13, 235493.72it/s]\u001b[A\u001b[A\n",
      "\n",
      " 32%|███▏      | 1409024/4422102 [00:07<00:11, 258769.02it/s]\u001b[A\u001b[A\n",
      "\n",
      " 33%|███▎      | 1458176/4422102 [00:07<00:14, 200106.28it/s]\u001b[A\u001b[A\n",
      "\n",
      " 35%|███▌      | 1548288/4422102 [00:07<00:11, 260526.43it/s]\u001b[A\u001b[A\n",
      "\n",
      " 36%|███▋      | 1605632/4422102 [00:07<00:11, 255817.37it/s]\u001b[A\u001b[A\n",
      "\n",
      " 38%|███▊      | 1662976/4422102 [00:07<00:10, 264712.12it/s]\u001b[A\u001b[A\n",
      "\n",
      " 39%|███▊      | 1703936/4422102 [00:08<00:09, 294952.47it/s]\u001b[A\u001b[A\n",
      "\n",
      " 40%|████      | 1777664/4422102 [00:08<00:08, 319234.21it/s]\u001b[A\u001b[A\n",
      "\n",
      " 41%|████      | 1818624/4422102 [00:08<00:08, 297924.62it/s]\u001b[A\u001b[A\n",
      "\n",
      " 43%|████▎     | 1892352/4422102 [00:08<00:07, 352670.84it/s]\u001b[A\u001b[A\n",
      "\n",
      " 44%|████▍     | 1941504/4422102 [00:08<00:07, 323019.28it/s]\u001b[A\u001b[A\n",
      "\n",
      " 46%|████▌     | 2015232/4422102 [00:08<00:06, 369442.92it/s]\u001b[A\u001b[A\n",
      "\n",
      " 47%|████▋     | 2064384/4422102 [00:08<00:06, 338724.23it/s]\u001b[A\u001b[A\n",
      "\n",
      " 48%|████▊     | 2138112/4422102 [00:09<00:05, 394863.53it/s]\u001b[A\u001b[A\n",
      "\n",
      " 49%|████▉     | 2187264/4422102 [00:09<00:06, 338539.20it/s]\u001b[A\u001b[A\n",
      "\n",
      "26427392it [02:00, 193319.35it/s]                              A\u001b[A\n",
      "\n",
      " 52%|█████▏    | 2310144/4422102 [00:09<00:06, 314692.03it/s]\u001b[A\u001b[A\n",
      "\n",
      " 54%|█████▍    | 2400256/4422102 [00:09<00:05, 371992.90it/s]\u001b[A\u001b[A\n",
      "\n",
      " 55%|█████▌    | 2449408/4422102 [00:09<00:06, 323993.95it/s]\u001b[A\u001b[A\n",
      "\n",
      " 57%|█████▋    | 2531328/4422102 [00:10<00:05, 366740.82it/s]\u001b[A\u001b[A\n",
      "\n",
      " 58%|█████▊    | 2580480/4422102 [00:10<00:05, 331315.36it/s]\u001b[A\u001b[A\n",
      "\n",
      " 60%|██████    | 2654208/4422102 [00:10<00:04, 392739.72it/s]\u001b[A\u001b[A\n",
      "\n",
      " 61%|██████    | 2703360/4422102 [00:10<00:05, 333086.15it/s]\u001b[A\u001b[A\n",
      "\n",
      " 63%|██████▎   | 2785280/4422102 [00:10<00:04, 404406.60it/s]\u001b[A\u001b[A\n",
      "\n",
      " 64%|██████▍   | 2842624/4422102 [00:10<00:04, 352904.64it/s]\u001b[A\u001b[A\n",
      "\n",
      " 66%|██████▌   | 2924544/4422102 [00:11<00:04, 364944.52it/s]\u001b[A\u001b[A\n",
      "\n",
      " 67%|██████▋   | 2973696/4422102 [00:11<00:03, 390602.01it/s]\u001b[A\u001b[A\n",
      "\n",
      " 69%|██████▉   | 3047424/4422102 [00:11<00:03, 391422.38it/s]\u001b[A\u001b[A\n",
      "\n",
      " 70%|███████   | 3096576/4422102 [00:11<00:03, 390124.98it/s]\u001b[A\u001b[A\n",
      "\n",
      " 72%|███████▏  | 3170304/4422102 [00:11<00:03, 403645.10it/s]\u001b[A\u001b[A\n",
      "\n",
      " 73%|███████▎  | 3219456/4422102 [00:11<00:03, 384223.47it/s]\u001b[A\u001b[A\n",
      "\n",
      " 74%|███████▍  | 3293184/4422102 [00:11<00:02, 430212.97it/s]\u001b[A\u001b[A\n",
      "\n",
      " 76%|███████▌  | 3342336/4422102 [00:12<00:02, 361882.33it/s]\u001b[A\u001b[A\n",
      "\n",
      " 77%|███████▋  | 3424256/4422102 [00:12<00:02, 413524.56it/s]\u001b[A\u001b[A\n",
      "\n",
      " 79%|███████▊  | 3473408/4422102 [00:12<00:02, 346019.62it/s]\u001b[A\u001b[A\n",
      "\n",
      " 81%|████████  | 3563520/4422102 [00:12<00:02, 364640.50it/s]\u001b[A\u001b[A\n",
      "\n",
      " 82%|████████▏ | 3604480/4422102 [00:12<00:02, 369973.87it/s]\u001b[A\u001b[A\n",
      "\n",
      " 84%|████████▎ | 3694592/4422102 [00:13<00:01, 385202.63it/s]\u001b[A\u001b[A\n",
      "\n",
      " 84%|████████▍ | 3735552/4422102 [00:13<00:01, 359229.51it/s]\u001b[A\u001b[A\n",
      "\n",
      " 86%|████████▋ | 3817472/4422102 [00:13<00:01, 422935.26it/s]\u001b[A\u001b[A\n",
      "\n",
      " 87%|████████▋ | 3866624/4422102 [00:13<00:02, 206256.16it/s]\u001b[A\u001b[A\n",
      "\n",
      " 90%|█████████ | 3997696/4422102 [00:14<00:01, 245532.52it/s]\u001b[A\u001b[A\n",
      "\n",
      " 92%|█████████▏| 4087808/4422102 [00:14<00:01, 312971.83it/s]\u001b[A\u001b[A\n",
      "\n",
      " 94%|█████████▎| 4145152/4422102 [00:14<00:00, 294450.24it/s]\u001b[A\u001b[A\n",
      "\n",
      " 95%|█████████▌| 4202496/4422102 [00:14<00:00, 256057.76it/s]\u001b[A\u001b[A\n",
      "\n",
      " 98%|█████████▊| 4317184/4422102 [00:14<00:00, 293891.26it/s]\u001b[A\u001b[A\n",
      "\n",
      "\n",
      "0it [00:00, ?it/s]\u001b[A\u001b[A\u001b[A"
     ]
    },
    {
     "name": "stdout",
     "output_type": "stream",
     "text": [
      "Extracting /home/dockeruser/.pytorch/F_MNIST_data/FashionMNIST/raw/t10k-images-idx3-ubyte.gz to /home/dockeruser/.pytorch/F_MNIST_data/FashionMNIST/raw\n",
      "Downloading http://fashion-mnist.s3-website.eu-central-1.amazonaws.com/t10k-labels-idx1-ubyte.gz to /home/dockeruser/.pytorch/F_MNIST_data/FashionMNIST/raw/t10k-labels-idx1-ubyte.gz\n"
     ]
    },
    {
     "name": "stderr",
     "output_type": "stream",
     "text": [
      "\n",
      "\n",
      "\n",
      "8192it [00:00, 11971.00it/s]            \u001b[A\u001b[A\u001b[A\n"
     ]
    },
    {
     "name": "stdout",
     "output_type": "stream",
     "text": [
      "Extracting /home/dockeruser/.pytorch/F_MNIST_data/FashionMNIST/raw/t10k-labels-idx1-ubyte.gz to /home/dockeruser/.pytorch/F_MNIST_data/FashionMNIST/raw\n",
      "Processing...\n",
      "Done!\n"
     ]
    }
   ],
   "source": [
    "import torch\n",
    "from torchvision import datasets, transforms\n",
    "import helper\n",
    "\n",
    "# Define a transform to normalize the data\n",
    "transform = transforms.Compose([transforms.ToTensor(),\n",
    "                                transforms.Normalize((0.5,), (0.5,))])\n",
    "# Download and load the training data\n",
    "trainset = datasets.FashionMNIST('~/.pytorch/F_MNIST_data/', download=True, train=True, transform=transform)\n",
    "trainloader = torch.utils.data.DataLoader(trainset, batch_size=64, shuffle=True)\n",
    "\n",
    "# Download and load the test data\n",
    "testset = datasets.FashionMNIST('~/.pytorch/F_MNIST_data/', download=True, train=False, transform=transform)\n",
    "testloader = torch.utils.data.DataLoader(testset, batch_size=64, shuffle=True)"
   ]
  },
  {
   "cell_type": "markdown",
   "metadata": {},
   "source": [
    "Here we can see one of the images."
   ]
  },
  {
   "cell_type": "code",
   "execution_count": 2,
   "metadata": {},
   "outputs": [
    {
     "data": {
      "image/png": "[encoded data removed]",
      "text/plain": [
       "<Figure size 2400x1500 with 1 Axes>"
      ]
     },
     "metadata": {
      "needs_background": "light"
     },
     "output_type": "display_data"
    }
   ],
   "source": [
    "image, label = next(iter(trainloader))\n",
    "helper.imshow(image[0,:]);"
   ]
  },
  {
   "cell_type": "markdown",
   "metadata": {},
   "source": [
    "## Building the network\n",
    "\n",
    "Here you should define your network. As with MNIST, each image is 28x28 which is a total of 784 pixels, and there are 10 classes. You should include at least one hidden layer. We suggest you use ReLU activations for the layers and to return the logits or log-softmax from the forward pass. It's up to you how many layers you add and the size of those layers."
   ]
  },
  {
   "cell_type": "code",
   "execution_count": 4,
   "metadata": {},
   "outputs": [],
   "source": [
    "# TODO: Define your network architecture here\n",
    "\n",
    "import torch\n",
    "from torch import nn\n",
    "import torch.nn.functional as F\n",
    "\n",
    "model = nn.Sequential(nn.Linear(784, 128),\n",
    "                      nn.ReLU(),\n",
    "                      nn.Linear(128, 64),\n",
    "                      nn.ReLU(),\n",
    "                      nn.Linear(64, 10),\n",
    "                      nn.LogSoftmax(dim=1))"
   ]
  },
  {
   "cell_type": "markdown",
   "metadata": {},
   "source": [
    "# Train the network\n",
    "\n",
    "Now you should create your network and train it. First you'll want to define [the criterion](http://pytorch.org/docs/master/nn.html#loss-functions) ( something like `nn.CrossEntropyLoss`) and [the optimizer](http://pytorch.org/docs/master/optim.html) (typically `optim.SGD` or `optim.Adam`).\n",
    "\n",
    "Then write the training code. Remember the training pass is a fairly straightforward process:\n",
    "\n",
    "* Make a forward pass through the network to get the logits \n",
    "* Use the logits to calculate the loss\n",
    "* Perform a backward pass through the network with `loss.backward()` to calculate the gradients\n",
    "* Take a step with the optimizer to update the weights\n",
    "\n",
    "By adjusting the hyperparameters (hidden units, learning rate, etc), you should be able to get the training loss below 0.4."
   ]
  },
  {
   "cell_type": "code",
   "execution_count": 6,
   "metadata": {},
   "outputs": [],
   "source": [
    "# TODO: Create the network, define the criterion and optimizer\n",
    "# define the loss\n",
    "criterion = nn.CrossEntropyLoss()\n",
    "\n",
    "# update weights\n",
    "from torch import optim \n",
    "\n",
    "optimizer = optim.SGD(model.parameters(), lr=0.002)"
   ]
  },
  {
   "cell_type": "code",
   "execution_count": 7,
   "metadata": {},
   "outputs": [
    {
     "name": "stdout",
     "output_type": "stream",
     "text": [
      "Training loss: 1.8951721693406989\n",
      "Training loss: 1.0636899197406606\n",
      "Training loss: 0.7949846532426155\n",
      "Training loss: 0.6956380812216924\n",
      "Training loss: 0.6407868232109399\n",
      "Training loss: 0.6027309649280393\n",
      "Training loss: 0.5724889666541044\n"
     ]
    }
   ],
   "source": [
    "# TODO: Train the network here\n",
    "\n",
    "# running the training loop\n",
    "epochs = 7\n",
    "for e in range(epochs): \n",
    "    running_loss = 0\n",
    "    for images, labels in trainloader:\n",
    "        # Flatten MNIST images into a 784 long vector\n",
    "        images = images.view(images.shape[0], -1)\n",
    "    \n",
    "        # TODO: Training pass\n",
    "        # clear the gradients\n",
    "        optimizer.zero_grad()\n",
    "        \n",
    "        # forward pass\n",
    "        output = model(images)\n",
    "        \n",
    "        # loss\n",
    "        loss = criterion(output, labels)\n",
    "        \n",
    "        # backward pass\n",
    "        loss.backward()\n",
    "        \n",
    "        # update weights\n",
    "        optimizer.step()\n",
    "        \n",
    "        running_loss += loss.item()\n",
    "    else:\n",
    "        print(f\"Training loss: {running_loss/len(trainloader)}\")"
   ]
  },
  {
   "cell_type": "code",
   "execution_count": 12,
   "metadata": {},
   "outputs": [
    {
     "data": {
      "image/png": "[encoded data removed]",
      "text/plain": [
       "<Figure size 432x648 with 2 Axes>"
      ]
     },
     "metadata": {
      "image/png": {
       "height": 219,
       "width": 424
      },
      "needs_background": "light"
     },
     "output_type": "display_data"
    }
   ],
   "source": [
    "%matplotlib inline\n",
    "%config InlineBackend.figure_format = 'retina'\n",
    "\n",
    "import helper\n",
    "\n",
    "# Test out your network!\n",
    "\n",
    "dataiter = iter(testloader)\n",
    "images, labels = dataiter.next()\n",
    "img = images[0]\n",
    "# Convert 2D image to 1D vector\n",
    "img = img.resize_(1, 784)\n",
    "\n",
    "# TODO: Calculate the class probabilities (softmax) for img\n",
    "with torch.no_grad():\n",
    "    logps = model(img)\n",
    "\n",
    "ps = torch.exp(logps)\n",
    "\n",
    "# Plot the image and probabilities\n",
    "helper.view_classify(img.resize_(1, 28, 28), ps, version='Fashion')"
   ]
  },
  {
   "cell_type": "code",
   "execution_count": null,
   "metadata": {},
   "outputs": [],
   "source": []
  },
  {
   "cell_type": "code",
   "execution_count": null,
   "metadata": {},
   "outputs": [],
   "source": []
  }
 ],
 "metadata": {
  "kernelspec": {
   "display_name": "Python 3",
   "language": "python",
   "name": "python3"
  },
  "language_info": {
   "codemirror_mode": {
    "name": "ipython",
    "version": 3
   },
   "file_extension": ".py",
   "mimetype": "text/x-python",
   "name": "python",
   "nbconvert_exporter": "python",
   "pygments_lexer": "ipython3",
   "version": "3.7.0"
  },
  "latex_envs": {
   "LaTeX_envs_menu_present": true,
   "autoclose": false,
   "autocomplete": true,
   "bibliofile": "biblio.bib",
   "cite_by": "apalike",
   "current_citInitial": 1,
   "eqLabelWithNumbers": true,
   "eqNumInitial": 1,
   "hotkeys": {
    "equation": "Ctrl-E",
    "itemize": "Ctrl-I"
   },
   "labels_anchors": false,
   "latex_user_defs": false,
   "report_style_numbering": false,
   "user_envs_cfg": false
  },
  "toc": {
   "base_numbering": 1,
   "nav_menu": {},
   "number_sections": true,
   "sideBar": true,
   "skip_h1_title": false,
   "title_cell": "Table of Contents",
   "title_sidebar": "Contents",
   "toc_cell": false,
   "toc_position": {},
   "toc_section_display": true,
   "toc_window_display": false
  },
  "varInspector": {
   "cols": {
    "lenName": 16,
    "lenType": 16,
    "lenVar": 40
   },
   "kernels_config": {
    "python": {
     "delete_cmd_postfix": "",
     "delete_cmd_prefix": "del ",
     "library": "var_list.py",
     "varRefreshCmd": "print(var_dic_list())"
    },
    "r": {
     "delete_cmd_postfix": ") ",
     "delete_cmd_prefix": "rm(",
     "library": "var_list.r",
     "varRefreshCmd": "cat(var_dic_list()) "
    }
   },
   "types_to_exclude": [
    "module",
    "function",
    "builtin_function_or_method",
    "instance",
    "_Feature"
   ],
   "window_display": false
  }
 },
 "nbformat": 4,
 "nbformat_minor": 2
}
